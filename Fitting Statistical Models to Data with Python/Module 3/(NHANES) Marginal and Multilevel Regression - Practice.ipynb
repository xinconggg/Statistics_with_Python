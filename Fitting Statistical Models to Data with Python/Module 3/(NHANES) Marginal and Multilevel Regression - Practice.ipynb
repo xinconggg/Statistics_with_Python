{
 "cells": [
  {
   "cell_type": "markdown",
   "metadata": {},
   "source": [
    "# Practice notebook for regression analysis with dependent data in NHANES\n",
    "\n",
    "This notebook will give you the opportunity to perform some analyses using the regression methods for dependent data that we are covering in this week of the course.\n",
    "\n",
    "Enter the code in response to each question in the boxes labeled \"enter your code here\". Then enter your responses to the questions in the boxes labeled \"Type Markdown and Latex\".\n",
    "\n",
    "This notebook is based on the NHANES case study notebook for regression with dependent data.  Most of the code that you will need to write below is very similar to code that appears in the case study notebook.  You will need to edit code from that notebook in small ways to adapt it to the prompts below.\n",
    "\n",
    "To get started, we will use the same module imports and read the data in the same way as we did in the case study:"
   ]
  },
  {
   "cell_type": "code",
   "execution_count": 18,
   "metadata": {},
   "outputs": [],
   "source": [
    "import matplotlib.pyplot as plt\n",
    "import seaborn as sns\n",
    "import pandas as pd\n",
    "import statsmodels.api as sm\n",
    "import numpy as np\n",
    "\n",
    "url = \"nhanes_2015_2016.csv\"\n",
    "da = pd.read_csv(url)\n",
    "\n",
    "# Drop unused columns, drop rows with any missing values.\n",
    "vars = [\"BPXSY1\", \"BPXDI1\", \"RIDAGEYR\", \"RIAGENDR\", \"RIDRETH1\", \"DMDEDUC2\", \"BMXBMI\",\n",
    "        \"SMQ020\", \"SDMVSTRA\", \"SDMVPSU\"]\n",
    "da = da[vars].dropna()\n",
    "\n",
    "# This is the grouping variable\n",
    "da[\"group\"] = 10*da.SDMVSTRA + da.SDMVPSU"
   ]
  },
  {
   "cell_type": "markdown",
   "metadata": {},
   "source": [
    "## Question 1: \n",
    "\n",
    "Build a marginal linear model for the first measurement of diastolic blood pressure (`BPXDI1`), using GEE to account for the grouping variable 'group' defined above.  This initial model should have no covariates, and will be used to assess the ICC of this blood pressure measure."
   ]
  },
  {
   "cell_type": "code",
   "execution_count": 19,
   "metadata": {},
   "outputs": [
    {
     "data": {
      "text/html": [
       "<table class=\"simpletable\">\n",
       "<caption>GEE Regression Results</caption>\n",
       "<tr>\n",
       "  <th>Dep. Variable:</th>               <td>BPXDI1</td>        <th>  No. Observations:  </th>   <td>5102</td>  \n",
       "</tr>\n",
       "<tr>\n",
       "  <th>Model:</th>                         <td>GEE</td>         <th>  No. clusters:      </th>    <td>30</td>   \n",
       "</tr>\n",
       "<tr>\n",
       "  <th>Method:</th>                    <td>Generalized</td>     <th>  Min. cluster size: </th>    <td>106</td>  \n",
       "</tr>\n",
       "<tr>\n",
       "  <th></th>                      <td>Estimating Equations</td> <th>  Max. cluster size: </th>    <td>226</td>  \n",
       "</tr>\n",
       "<tr>\n",
       "  <th>Family:</th>                     <td>Gaussian</td>       <th>  Mean cluster size: </th>   <td>170.1</td> \n",
       "</tr>\n",
       "<tr>\n",
       "  <th>Dependence structure:</th>     <td>Exchangeable</td>     <th>  Num. iterations:   </th>     <td>5</td>   \n",
       "</tr>\n",
       "<tr>\n",
       "  <th>Date:</th>                   <td>Wed, 06 Sep 2023</td>   <th>  Scale:             </th>  <td>162.315</td>\n",
       "</tr>\n",
       "<tr>\n",
       "  <th>Covariance type: </th>            <td>robust</td>        <th>  Time:              </th> <td>16:45:29</td>\n",
       "</tr>\n",
       "</table>\n",
       "<table class=\"simpletable\">\n",
       "<tr>\n",
       "      <td></td>         <th>coef</th>     <th>std err</th>      <th>z</th>      <th>P>|z|</th>  <th>[0.025</th>    <th>0.975]</th>  \n",
       "</tr>\n",
       "<tr>\n",
       "  <th>Intercept</th> <td>   70.0088</td> <td>    0.419</td> <td>  167.219</td> <td> 0.000</td> <td>   69.188</td> <td>   70.829</td>\n",
       "</tr>\n",
       "</table>\n",
       "<table class=\"simpletable\">\n",
       "<tr>\n",
       "  <th>Skew:</th>          <td>     -0.6467</td> <th>  Kurtosis:          </th> <td>      3.8275</td>\n",
       "</tr>\n",
       "<tr>\n",
       "  <th>Centered skew:</th> <td>     -0.6299</td> <th>  Centered kurtosis: </th> <td>      3.8513</td>\n",
       "</tr>\n",
       "</table>"
      ],
      "text/latex": [
       "\\begin{center}\n",
       "\\begin{tabular}{lclc}\n",
       "\\toprule\n",
       "\\textbf{Dep. Variable:}        &        BPXDI1        & \\textbf{  No. Observations:  } &     5102      \\\\\n",
       "\\textbf{Model:}                &         GEE          & \\textbf{  No. clusters:      } &      30       \\\\\n",
       "\\textbf{Method:}               &     Generalized      & \\textbf{  Min. cluster size: } &     106       \\\\\n",
       "\\textbf{}                      & Estimating Equations & \\textbf{  Max. cluster size: } &     226       \\\\\n",
       "\\textbf{Family:}               &       Gaussian       & \\textbf{  Mean cluster size: } &    170.1      \\\\\n",
       "\\textbf{Dependence structure:} &     Exchangeable     & \\textbf{  Num. iterations:   } &      5        \\\\\n",
       "\\textbf{Date:}                 &   Wed, 06 Sep 2023   & \\textbf{  Scale:             } &   162.315     \\\\\n",
       "\\textbf{Covariance type: }     &        robust        & \\textbf{  Time:              } &   16:45:29    \\\\\n",
       "\\bottomrule\n",
       "\\end{tabular}\n",
       "\\begin{tabular}{lcccccc}\n",
       "                   & \\textbf{coef} & \\textbf{std err} & \\textbf{z} & \\textbf{P$> |$z$|$} & \\textbf{[0.025} & \\textbf{0.975]}  \\\\\n",
       "\\midrule\n",
       "\\textbf{Intercept} &      70.0088  &        0.419     &   167.219  &         0.000        &       69.188    &       70.829     \\\\\n",
       "\\bottomrule\n",
       "\\end{tabular}\n",
       "\\begin{tabular}{lclc}\n",
       "\\textbf{Skew:}          &      -0.6467 & \\textbf{  Kurtosis:          } &       3.8275  \\\\\n",
       "\\textbf{Centered skew:} &      -0.6299 & \\textbf{  Centered kurtosis: } &       3.8513  \\\\\n",
       "\\bottomrule\n",
       "\\end{tabular}\n",
       "%\\caption{GEE Regression Results}\n",
       "\\end{center}"
      ],
      "text/plain": [
       "<class 'statsmodels.iolib.summary.Summary'>\n",
       "\"\"\"\n",
       "                               GEE Regression Results                              \n",
       "===================================================================================\n",
       "Dep. Variable:                      BPXDI1   No. Observations:                 5102\n",
       "Model:                                 GEE   No. clusters:                       30\n",
       "Method:                        Generalized   Min. cluster size:                 106\n",
       "                      Estimating Equations   Max. cluster size:                 226\n",
       "Family:                           Gaussian   Mean cluster size:               170.1\n",
       "Dependence structure:         Exchangeable   Num. iterations:                     5\n",
       "Date:                     Wed, 06 Sep 2023   Scale:                         162.315\n",
       "Covariance type:                    robust   Time:                         16:45:29\n",
       "==============================================================================\n",
       "                 coef    std err          z      P>|z|      [0.025      0.975]\n",
       "------------------------------------------------------------------------------\n",
       "Intercept     70.0088      0.419    167.219      0.000      69.188      70.829\n",
       "==============================================================================\n",
       "Skew:                         -0.6467   Kurtosis:                       3.8275\n",
       "Centered skew:                -0.6299   Centered kurtosis:              3.8513\n",
       "==============================================================================\n",
       "\"\"\""
      ]
     },
     "execution_count": 19,
     "metadata": {},
     "output_type": "execute_result"
    }
   ],
   "source": [
    "m0 = sm.GEE.from_formula(\"BPXDI1 ~ 1\", \"group\", cov_struct=sm.cov_struct.Exchangeable(), data=da)\n",
    "r0 = m0.fit()\n",
    "r0.summary()"
   ]
  },
  {
   "cell_type": "markdown",
   "metadata": {},
   "source": [
    "__Q1a.__ What is the ICC for diastolic blood pressure?  What can you\n",
    "  conclude by comparing it to the ICC for systolic blood pressure?"
   ]
  },
  {
   "cell_type": "code",
   "execution_count": 20,
   "metadata": {},
   "outputs": [
    {
     "name": "stdout",
     "output_type": "stream",
     "text": [
      "The correlation between two observations in the same cluster is 0.031\n",
      "The correlation between two observations in the same cluster is 0.030\n"
     ]
    }
   ],
   "source": [
    "m1 = sm.GEE.from_formula(\"BPXSY1 ~ 1\", \"group\", cov_struct=sm.cov_struct.Exchangeable(), data=da)\n",
    "r1 = m1.fit()\n",
    "print(r0.cov_struct.summary())\n",
    "print(r1.cov_struct.summary())"
   ]
  },
  {
   "cell_type": "markdown",
   "metadata": {},
   "source": [
    "The ICC for diastolic and systolic blood pressure are quite similar.  For both diastolic and systolic blood pressure, around 3% of the variance is between groups and 97% is within groups."
   ]
  },
  {
   "cell_type": "markdown",
   "metadata": {},
   "source": [
    "## Question 2: \n",
    "\n",
    "Take your model from question 1, and add sex, age, and BMI to it as covariates."
   ]
  },
  {
   "cell_type": "code",
   "execution_count": 21,
   "metadata": {},
   "outputs": [
    {
     "data": {
      "text/html": [
       "<table class=\"simpletable\">\n",
       "<caption>GEE Regression Results</caption>\n",
       "<tr>\n",
       "  <th>Dep. Variable:</th>               <td>BPXDI1</td>        <th>  No. Observations:  </th>   <td>5102</td>  \n",
       "</tr>\n",
       "<tr>\n",
       "  <th>Model:</th>                         <td>GEE</td>         <th>  No. clusters:      </th>    <td>30</td>   \n",
       "</tr>\n",
       "<tr>\n",
       "  <th>Method:</th>                    <td>Generalized</td>     <th>  Min. cluster size: </th>    <td>106</td>  \n",
       "</tr>\n",
       "<tr>\n",
       "  <th></th>                      <td>Estimating Equations</td> <th>  Max. cluster size: </th>    <td>226</td>  \n",
       "</tr>\n",
       "<tr>\n",
       "  <th>Family:</th>                     <td>Gaussian</td>       <th>  Mean cluster size: </th>   <td>170.1</td> \n",
       "</tr>\n",
       "<tr>\n",
       "  <th>Dependence structure:</th>     <td>Exchangeable</td>     <th>  Num. iterations:   </th>     <td>7</td>   \n",
       "</tr>\n",
       "<tr>\n",
       "  <th>Date:</th>                   <td>Wed, 06 Sep 2023</td>   <th>  Scale:             </th>  <td>158.611</td>\n",
       "</tr>\n",
       "<tr>\n",
       "  <th>Covariance type: </th>            <td>robust</td>        <th>  Time:              </th> <td>16:45:30</td>\n",
       "</tr>\n",
       "</table>\n",
       "<table class=\"simpletable\">\n",
       "<tr>\n",
       "      <td></td>         <th>coef</th>     <th>std err</th>      <th>z</th>      <th>P>|z|</th>  <th>[0.025</th>    <th>0.975]</th>  \n",
       "</tr>\n",
       "<tr>\n",
       "  <th>Intercept</th> <td>   70.7858</td> <td>    1.098</td> <td>   64.489</td> <td> 0.000</td> <td>   68.634</td> <td>   72.937</td>\n",
       "</tr>\n",
       "<tr>\n",
       "  <th>RIAGENDR</th>  <td>   -2.7422</td> <td>    0.402</td> <td>   -6.828</td> <td> 0.000</td> <td>   -3.529</td> <td>   -1.955</td>\n",
       "</tr>\n",
       "<tr>\n",
       "  <th>RIDAGEYR</th>  <td>   -0.0409</td> <td>    0.014</td> <td>   -2.845</td> <td> 0.004</td> <td>   -0.069</td> <td>   -0.013</td>\n",
       "</tr>\n",
       "<tr>\n",
       "  <th>BMXBMI</th>    <td>    0.1839</td> <td>    0.030</td> <td>    6.218</td> <td> 0.000</td> <td>    0.126</td> <td>    0.242</td>\n",
       "</tr>\n",
       "</table>\n",
       "<table class=\"simpletable\">\n",
       "<tr>\n",
       "  <th>Skew:</th>          <td>     -0.6865</td> <th>  Kurtosis:          </th> <td>      3.9310</td>\n",
       "</tr>\n",
       "<tr>\n",
       "  <th>Centered skew:</th> <td>     -0.6664</td> <th>  Centered kurtosis: </th> <td>      3.9656</td>\n",
       "</tr>\n",
       "</table>"
      ],
      "text/latex": [
       "\\begin{center}\n",
       "\\begin{tabular}{lclc}\n",
       "\\toprule\n",
       "\\textbf{Dep. Variable:}        &        BPXDI1        & \\textbf{  No. Observations:  } &     5102      \\\\\n",
       "\\textbf{Model:}                &         GEE          & \\textbf{  No. clusters:      } &      30       \\\\\n",
       "\\textbf{Method:}               &     Generalized      & \\textbf{  Min. cluster size: } &     106       \\\\\n",
       "\\textbf{}                      & Estimating Equations & \\textbf{  Max. cluster size: } &     226       \\\\\n",
       "\\textbf{Family:}               &       Gaussian       & \\textbf{  Mean cluster size: } &    170.1      \\\\\n",
       "\\textbf{Dependence structure:} &     Exchangeable     & \\textbf{  Num. iterations:   } &      7        \\\\\n",
       "\\textbf{Date:}                 &   Wed, 06 Sep 2023   & \\textbf{  Scale:             } &   158.611     \\\\\n",
       "\\textbf{Covariance type: }     &        robust        & \\textbf{  Time:              } &   16:45:30    \\\\\n",
       "\\bottomrule\n",
       "\\end{tabular}\n",
       "\\begin{tabular}{lcccccc}\n",
       "                   & \\textbf{coef} & \\textbf{std err} & \\textbf{z} & \\textbf{P$> |$z$|$} & \\textbf{[0.025} & \\textbf{0.975]}  \\\\\n",
       "\\midrule\n",
       "\\textbf{Intercept} &      70.7858  &        1.098     &    64.489  &         0.000        &       68.634    &       72.937     \\\\\n",
       "\\textbf{RIAGENDR}  &      -2.7422  &        0.402     &    -6.828  &         0.000        &       -3.529    &       -1.955     \\\\\n",
       "\\textbf{RIDAGEYR}  &      -0.0409  &        0.014     &    -2.845  &         0.004        &       -0.069    &       -0.013     \\\\\n",
       "\\textbf{BMXBMI}    &       0.1839  &        0.030     &     6.218  &         0.000        &        0.126    &        0.242     \\\\\n",
       "\\bottomrule\n",
       "\\end{tabular}\n",
       "\\begin{tabular}{lclc}\n",
       "\\textbf{Skew:}          &      -0.6865 & \\textbf{  Kurtosis:          } &       3.9310  \\\\\n",
       "\\textbf{Centered skew:} &      -0.6664 & \\textbf{  Centered kurtosis: } &       3.9656  \\\\\n",
       "\\bottomrule\n",
       "\\end{tabular}\n",
       "%\\caption{GEE Regression Results}\n",
       "\\end{center}"
      ],
      "text/plain": [
       "<class 'statsmodels.iolib.summary.Summary'>\n",
       "\"\"\"\n",
       "                               GEE Regression Results                              \n",
       "===================================================================================\n",
       "Dep. Variable:                      BPXDI1   No. Observations:                 5102\n",
       "Model:                                 GEE   No. clusters:                       30\n",
       "Method:                        Generalized   Min. cluster size:                 106\n",
       "                      Estimating Equations   Max. cluster size:                 226\n",
       "Family:                           Gaussian   Mean cluster size:               170.1\n",
       "Dependence structure:         Exchangeable   Num. iterations:                     7\n",
       "Date:                     Wed, 06 Sep 2023   Scale:                         158.611\n",
       "Covariance type:                    robust   Time:                         16:45:30\n",
       "==============================================================================\n",
       "                 coef    std err          z      P>|z|      [0.025      0.975]\n",
       "------------------------------------------------------------------------------\n",
       "Intercept     70.7858      1.098     64.489      0.000      68.634      72.937\n",
       "RIAGENDR      -2.7422      0.402     -6.828      0.000      -3.529      -1.955\n",
       "RIDAGEYR      -0.0409      0.014     -2.845      0.004      -0.069      -0.013\n",
       "BMXBMI         0.1839      0.030      6.218      0.000       0.126       0.242\n",
       "==============================================================================\n",
       "Skew:                         -0.6865   Kurtosis:                       3.9310\n",
       "Centered skew:                -0.6664   Centered kurtosis:              3.9656\n",
       "==============================================================================\n",
       "\"\"\""
      ]
     },
     "execution_count": 21,
     "metadata": {},
     "output_type": "execute_result"
    }
   ],
   "source": [
    "m2 = sm.GEE.from_formula(\"BPXDI1 ~ RIAGENDR + RIDAGEYR + BMXBMI\", \"group\", cov_struct=sm.cov_struct.Exchangeable(), data=da)\n",
    "r2 = m2.fit()\n",
    "r2.summary()"
   ]
  },
  {
   "cell_type": "markdown",
   "metadata": {},
   "source": [
    "__Q2a.__ What is the ICC for this model?  What can you conclude by comparing it to the ICC for the model that you fit in question 1?"
   ]
  },
  {
   "cell_type": "code",
   "execution_count": 22,
   "metadata": {},
   "outputs": [
    {
     "data": {
      "text/plain": [
       "'The correlation between two observations in the same cluster is 0.030'"
      ]
     },
     "execution_count": 22,
     "metadata": {},
     "output_type": "execute_result"
    }
   ],
   "source": [
    "r1.cov_struct.summary()"
   ]
  },
  {
   "cell_type": "markdown",
   "metadata": {},
   "source": [
    "The ICC is almost identical to what we saw with the unadjusted model above.  Evidently the covariates (sex, age, BMI) do not account for the ICC.  This will happen when the covariates are approximately equally distributed across all levels of 'group', and/or when the covariates do not explain any variation in the response variable (either diastolic or systolic blood pressure here)."
   ]
  },
  {
   "cell_type": "markdown",
   "metadata": {},
   "source": [
    "## Question 3: \n",
    "\n",
    "Split the data into separate datasets for females and for males and fit two separate marginal linear models for diastolic blood pressure, one only for females, and one only for males."
   ]
  },
  {
   "cell_type": "code",
   "execution_count": 23,
   "metadata": {},
   "outputs": [
    {
     "name": "stdout",
     "output_type": "stream",
     "text": [
      "Sex=Male\n",
      "                               GEE Regression Results                              \n",
      "===================================================================================\n",
      "Dep. Variable:                      BPXDI1   No. Observations:                 2462\n",
      "Model:                                 GEE   No. clusters:                       30\n",
      "Method:                        Generalized   Min. cluster size:                  38\n",
      "                      Estimating Equations   Max. cluster size:                 111\n",
      "Family:                           Gaussian   Mean cluster size:                82.1\n",
      "Dependence structure:         Exchangeable   Num. iterations:                     7\n",
      "Date:                     Wed, 06 Sep 2023   Scale:                         173.641\n",
      "Covariance type:                    robust   Time:                         16:45:30\n",
      "==============================================================================\n",
      "                 coef    std err          z      P>|z|      [0.025      0.975]\n",
      "------------------------------------------------------------------------------\n",
      "Intercept     66.8949      1.751     38.210      0.000      63.464      70.326\n",
      "RIDAGEYR      -0.0661      0.017     -3.947      0.000      -0.099      -0.033\n",
      "BMXBMI         0.2652      0.055      4.846      0.000       0.158       0.372\n",
      "==============================================================================\n",
      "Skew:                         -0.7533   Kurtosis:                       4.0786\n",
      "Centered skew:                -0.7013   Centered kurtosis:              4.0070\n",
      "==============================================================================\n",
      "Sex=Female\n",
      "                               GEE Regression Results                              \n",
      "===================================================================================\n",
      "Dep. Variable:                      BPXDI1   No. Observations:                 2640\n",
      "Model:                                 GEE   No. clusters:                       30\n",
      "Method:                        Generalized   Min. cluster size:                  59\n",
      "                      Estimating Equations   Max. cluster size:                 125\n",
      "Family:                           Gaussian   Mean cluster size:                88.0\n",
      "Dependence structure:         Exchangeable   Num. iterations:                     8\n",
      "Date:                     Wed, 06 Sep 2023   Scale:                         143.982\n",
      "Covariance type:                    robust   Time:                         16:45:30\n",
      "==============================================================================\n",
      "                 coef    std err          z      P>|z|      [0.025      0.975]\n",
      "------------------------------------------------------------------------------\n",
      "Intercept     65.7505      1.348     48.778      0.000      63.109      68.392\n",
      "RIDAGEYR      -0.0192      0.019     -0.998      0.318      -0.057       0.019\n",
      "BMXBMI         0.1324      0.030      4.374      0.000       0.073       0.192\n",
      "==============================================================================\n",
      "Skew:                         -0.6088   Kurtosis:                       3.6004\n",
      "Centered skew:                -0.5958   Centered kurtosis:              3.6229\n",
      "==============================================================================\n"
     ]
    }
   ],
   "source": [
    "for ky,dz in da.groupby(\"RIAGENDR\"):\n",
    "    m2 = sm.GEE.from_formula(\"BPXDI1 ~ RIDAGEYR + BMXBMI\", \"group\", cov_struct=sm.cov_struct.Exchangeable(), data=dz)\n",
    "    r2 = m2.fit()\n",
    "    print(\"Sex=%s\" % {1: \"Male\", 2: \"Female\"}[ky])\n",
    "    print(r2.summary())"
   ]
  },
  {
   "cell_type": "markdown",
   "metadata": {},
   "source": [
    "__Q3a.__ What do you learn by comparing these two fitted models?"
   ]
  },
  {
   "cell_type": "markdown",
   "metadata": {},
   "source": [
    "BMI is a statistically significant predictor of diastolic blood pressure for both sexes.  The quantitative association between BMI and blood pressure is stronger for males than for females.  Age is not a statistically significant predictor of diastolic blood pressure for females, and is negatively associated with diastolic blood pressure for males."
   ]
  },
  {
   "cell_type": "markdown",
   "metadata": {},
   "source": [
    "## Question 4: \n",
    "\n",
    "Using the entire data set, fit a multilevel model for diastolic blood pressure, predicted by age, gender, BMI, and educational attainment.  Include a random intercept for groups."
   ]
  },
  {
   "cell_type": "code",
   "execution_count": 24,
   "metadata": {},
   "outputs": [
    {
     "data": {
      "text/html": [
       "<table class=\"simpletable\">\n",
       "<tr>\n",
       "       <td>Model:</td>       <td>MixedLM</td> <td>Dependent Variable:</td>   <td>BPXDI1</td>   \n",
       "</tr>\n",
       "<tr>\n",
       "  <td>No. Observations:</td>  <td>5102</td>         <td>Method:</td>          <td>REML</td>    \n",
       "</tr>\n",
       "<tr>\n",
       "     <td>No. Groups:</td>      <td>30</td>          <td>Scale:</td>         <td>155.7897</td>  \n",
       "</tr>\n",
       "<tr>\n",
       "  <td>Min. group size:</td>    <td>106</td>     <td>Log-Likelihood:</td>   <td>-20145.7435</td>\n",
       "</tr>\n",
       "<tr>\n",
       "  <td>Max. group size:</td>    <td>226</td>       <td>Converged:</td>          <td>Yes</td>    \n",
       "</tr>\n",
       "<tr>\n",
       "  <td>Mean group size:</td>   <td>170.1</td>           <td></td>                <td></td>      \n",
       "</tr>\n",
       "</table>\n",
       "<table class=\"simpletable\">\n",
       "<tr>\n",
       "      <td></td>       <th>Coef.</th> <th>Std.Err.</th>    <th>z</th>   <th>P>|z|</th> <th>[0.025</th> <th>0.975]</th>\n",
       "</tr>\n",
       "<tr>\n",
       "  <th>Intercept</th> <td>75.852</td>   <td>0.843</td>  <td>90.006</td> <td>0.000</td> <td>74.200</td> <td>77.504</td>\n",
       "</tr>\n",
       "<tr>\n",
       "  <th>RIDAGEYR</th>  <td>-0.040</td>   <td>0.010</td>  <td>-3.997</td> <td>0.000</td> <td>-0.060</td> <td>-0.021</td>\n",
       "</tr>\n",
       "<tr>\n",
       "  <th>RIAGENDR</th>  <td>-2.545</td>   <td>0.351</td>  <td>-7.258</td> <td>0.000</td> <td>-3.232</td> <td>-1.857</td>\n",
       "</tr>\n",
       "<tr>\n",
       "  <th>group Var</th>  <td>4.082</td>   <td>0.105</td>     <td></td>      <td></td>       <td></td>       <td></td>   \n",
       "</tr>\n",
       "</table><br/>\n"
      ],
      "text/latex": [
       "\\begin{table}\n",
       "\\caption{Mixed Linear Model Regression Results}\n",
       "\\label{}\n",
       "\\begin{center}\n",
       "\\begin{tabular}{llll}\n",
       "\\hline\n",
       "Model:            & MixedLM & Dependent Variable: & BPXDI1       \\\\\n",
       "No. Observations: & 5102    & Method:             & REML         \\\\\n",
       "No. Groups:       & 30      & Scale:              & 155.7897     \\\\\n",
       "Min. group size:  & 106     & Log-Likelihood:     & -20145.7435  \\\\\n",
       "Max. group size:  & 226     & Converged:          & Yes          \\\\\n",
       "Mean group size:  & 170.1   &                     &              \\\\\n",
       "\\hline\n",
       "\\end{tabular}\n",
       "\\end{center}\n",
       "\n",
       "\\begin{center}\n",
       "\\begin{tabular}{lrrrrrr}\n",
       "\\hline\n",
       "          &  Coef. & Std.Err. &      z & P$> |$z$|$ & [0.025 & 0.975]  \\\\\n",
       "\\hline\n",
       "Intercept & 75.852 &    0.843 & 90.006 &       0.000 & 74.200 & 77.504  \\\\\n",
       "RIDAGEYR  & -0.040 &    0.010 & -3.997 &       0.000 & -0.060 & -0.021  \\\\\n",
       "RIAGENDR  & -2.545 &    0.351 & -7.258 &       0.000 & -3.232 & -1.857  \\\\\n",
       "group Var &  4.082 &    0.105 &        &             &        &         \\\\\n",
       "\\hline\n",
       "\\end{tabular}\n",
       "\\end{center}\n",
       "\\end{table}\n",
       "\\bigskip\n"
      ],
      "text/plain": [
       "<class 'statsmodels.iolib.summary2.Summary'>\n",
       "\"\"\"\n",
       "          Mixed Linear Model Regression Results\n",
       "=========================================================\n",
       "Model:            MixedLM Dependent Variable: BPXDI1     \n",
       "No. Observations: 5102    Method:             REML       \n",
       "No. Groups:       30      Scale:              155.7897   \n",
       "Min. group size:  106     Log-Likelihood:     -20145.7435\n",
       "Max. group size:  226     Converged:          Yes        \n",
       "Mean group size:  170.1                                  \n",
       "----------------------------------------------------------\n",
       "           Coef.   Std.Err.    z     P>|z|  [0.025  0.975]\n",
       "----------------------------------------------------------\n",
       "Intercept  75.852     0.843  90.006  0.000  74.200  77.504\n",
       "RIDAGEYR   -0.040     0.010  -3.997  0.000  -0.060  -0.021\n",
       "RIAGENDR   -2.545     0.351  -7.258  0.000  -3.232  -1.857\n",
       "group Var   4.082     0.105                               \n",
       "=========================================================\n",
       "\n",
       "\"\"\""
      ]
     },
     "execution_count": 24,
     "metadata": {},
     "output_type": "execute_result"
    }
   ],
   "source": [
    "m4 = sm.MixedLM.from_formula(\"BPXDI1 ~ RIDAGEYR + RIAGENDR\", groups=\"group\", data=da)\n",
    "r4 = m4.fit()\n",
    "r4.summary()"
   ]
  },
  {
   "cell_type": "markdown",
   "metadata": {},
   "source": [
    "__Q4a.__ How would you describe the strength of the clustering in this analysis?"
   ]
  },
  {
   "cell_type": "code",
   "execution_count": 25,
   "metadata": {},
   "outputs": [
    {
     "data": {
      "text/plain": [
       "0.024645775049710904"
      ]
     },
     "execution_count": 25,
     "metadata": {},
     "output_type": "execute_result"
    }
   ],
   "source": [
    "4/da[\"BPXDI1\"].var()"
   ]
  },
  {
   "cell_type": "markdown",
   "metadata": {},
   "source": [
    "The ICC from the mixed model is `4/da[\"BPXDI1\"].var()`, which is similar to the ICC found above using GEE.  According to the multilevel regression model, around 2.5% of the diastolic blood pressure variance is between-groups and 98.5% is within groups."
   ]
  },
  {
   "cell_type": "markdown",
   "metadata": {},
   "source": [
    "__Q4b:__ Include a random intercept for age, and describe your findings."
   ]
  },
  {
   "cell_type": "markdown",
   "metadata": {},
   "source": [
    "The multilevel model fitting algorithm may not converge especially when including random slopes for variables with high mean and/or variance.  Therefore the age variable is centered and scaled below before incorporating a random slope into the model.  Also, we choose to model the random intercepts and slopes as independent random variables.\n",
    "\n",
    "This model indicates that there is a negligible random slope for age.  The convergence warning is expected when an estimated variance parameter is nearly equal to zero.  Thus, there is little evidence that different groups have different age slopes."
   ]
  },
  {
   "cell_type": "code",
   "execution_count": 26,
   "metadata": {},
   "outputs": [
    {
     "name": "stderr",
     "output_type": "stream",
     "text": [
      "/nfs/turbo/lsa-kshedden/statsmodels/statsmodels/statsmodels/regression/mixed_linear_model.py:2238: ConvergenceWarning: The MLE may be on the boundary of the parameter space.\n",
      "  warnings.warn(msg, ConvergenceWarning)\n"
     ]
    },
    {
     "data": {
      "text/html": [
       "<table class=\"simpletable\">\n",
       "<tr>\n",
       "       <td>Model:</td>       <td>MixedLM</td> <td>Dependent Variable:</td>   <td>BPXDI1</td>   \n",
       "</tr>\n",
       "<tr>\n",
       "  <td>No. Observations:</td>  <td>5102</td>         <td>Method:</td>          <td>REML</td>    \n",
       "</tr>\n",
       "<tr>\n",
       "     <td>No. Groups:</td>      <td>30</td>          <td>Scale:</td>         <td>154.8623</td>  \n",
       "</tr>\n",
       "<tr>\n",
       "  <td>Min. group size:</td>    <td>106</td>     <td>Log-Likelihood:</td>   <td>-20144.4657</td>\n",
       "</tr>\n",
       "<tr>\n",
       "  <td>Max. group size:</td>    <td>226</td>       <td>Converged:</td>          <td>Yes</td>    \n",
       "</tr>\n",
       "<tr>\n",
       "  <td>Mean group size:</td>   <td>170.1</td>           <td></td>                <td></td>      \n",
       "</tr>\n",
       "</table>\n",
       "<table class=\"simpletable\">\n",
       "<tr>\n",
       "          <td></td>          <th>Coef.</th> <th>Std.Err.</th>    <th>z</th>   <th>P>|z|</th> <th>[0.025</th> <th>0.975]</th>\n",
       "</tr>\n",
       "<tr>\n",
       "  <th>Intercept</th>        <td>75.648</td>   <td>0.845</td>  <td>89.537</td> <td>0.000</td> <td>73.992</td> <td>77.304</td>\n",
       "</tr>\n",
       "<tr>\n",
       "  <th>RIDAGEYR</th>         <td>-0.035</td>   <td>0.013</td>  <td>-2.671</td> <td>0.008</td> <td>-0.061</td> <td>-0.009</td>\n",
       "</tr>\n",
       "<tr>\n",
       "  <th>RIAGENDR</th>         <td>-2.522</td>   <td>0.350</td>  <td>-7.210</td> <td>0.000</td> <td>-3.208</td> <td>-1.837</td>\n",
       "</tr>\n",
       "<tr>\n",
       "  <th>group Var</th>         <td>4.041</td>   <td>0.254</td>     <td></td>      <td></td>       <td></td>       <td></td>   \n",
       "</tr>\n",
       "<tr>\n",
       "  <th>RIDAGEYR_cen Var</th>  <td>0.002</td>   <td>0.000</td>     <td></td>      <td></td>       <td></td>       <td></td>   \n",
       "</tr>\n",
       "</table><br/>\n"
      ],
      "text/latex": [
       "\\begin{table}\n",
       "\\caption{Mixed Linear Model Regression Results}\n",
       "\\label{}\n",
       "\\begin{center}\n",
       "\\begin{tabular}{llll}\n",
       "\\hline\n",
       "Model:            & MixedLM & Dependent Variable: & BPXDI1       \\\\\n",
       "No. Observations: & 5102    & Method:             & REML         \\\\\n",
       "No. Groups:       & 30      & Scale:              & 154.8623     \\\\\n",
       "Min. group size:  & 106     & Log-Likelihood:     & -20144.4657  \\\\\n",
       "Max. group size:  & 226     & Converged:          & Yes          \\\\\n",
       "Mean group size:  & 170.1   &                     &              \\\\\n",
       "\\hline\n",
       "\\end{tabular}\n",
       "\\end{center}\n",
       "\n",
       "\\begin{center}\n",
       "\\begin{tabular}{lrrrrrr}\n",
       "\\hline\n",
       "                  &  Coef. & Std.Err. &      z & P$> |$z$|$ & [0.025 & 0.975]  \\\\\n",
       "\\hline\n",
       "Intercept         & 75.648 &    0.845 & 89.537 &       0.000 & 73.992 & 77.304  \\\\\n",
       "RIDAGEYR          & -0.035 &    0.013 & -2.671 &       0.008 & -0.061 & -0.009  \\\\\n",
       "RIAGENDR          & -2.522 &    0.350 & -7.210 &       0.000 & -3.208 & -1.837  \\\\\n",
       "group Var         &  4.041 &    0.254 &        &             &        &         \\\\\n",
       "RIDAGEYR\\_cen Var &  0.002 &    0.000 &        &             &        &         \\\\\n",
       "\\hline\n",
       "\\end{tabular}\n",
       "\\end{center}\n",
       "\\end{table}\n",
       "\\bigskip\n"
      ],
      "text/plain": [
       "<class 'statsmodels.iolib.summary2.Summary'>\n",
       "\"\"\"\n",
       "           Mixed Linear Model Regression Results\n",
       "===========================================================\n",
       "Model:              MixedLM Dependent Variable: BPXDI1     \n",
       "No. Observations:   5102    Method:             REML       \n",
       "No. Groups:         30      Scale:              154.8623   \n",
       "Min. group size:    106     Log-Likelihood:     -20144.4657\n",
       "Max. group size:    226     Converged:          Yes        \n",
       "Mean group size:    170.1                                  \n",
       "-----------------------------------------------------------\n",
       "                 Coef.  Std.Err.   z    P>|z| [0.025 0.975]\n",
       "-----------------------------------------------------------\n",
       "Intercept        75.648    0.845 89.537 0.000 73.992 77.304\n",
       "RIDAGEYR         -0.035    0.013 -2.671 0.008 -0.061 -0.009\n",
       "RIAGENDR         -2.522    0.350 -7.210 0.000 -3.208 -1.837\n",
       "group Var         4.041    0.254                           \n",
       "RIDAGEYR_cen Var  0.002    0.000                           \n",
       "===========================================================\n",
       "\n",
       "\"\"\""
      ]
     },
     "execution_count": 26,
     "metadata": {},
     "output_type": "execute_result"
    }
   ],
   "source": [
    "da[\"RIDAGEYR_cen\"] = (da[\"RIDAGEYR\"] - da[\"RIDAGEYR\"].mean()) / 10\n",
    "m5 = sm.MixedLM.from_formula(\"BPXDI1 ~ RIDAGEYR + RIAGENDR\", groups=\"group\", re_formula=\"1\", \n",
    "                              vc_formula={\"RIDAGEYR_cen\": \"0+RIDAGEYR\"}, data=da)\n",
    "r5 = m5.fit(method=\"lbfgs\")\n",
    "r5.summary()"
   ]
  }
 ],
 "metadata": {
  "kernelspec": {
   "display_name": "Python 3 (ipykernel)",
   "language": "python",
   "name": "python3"
  },
  "language_info": {
   "codemirror_mode": {
    "name": "ipython",
    "version": 3
   },
   "file_extension": ".py",
   "mimetype": "text/x-python",
   "name": "python",
   "nbconvert_exporter": "python",
   "pygments_lexer": "ipython3",
   "version": "3.11.4"
  }
 },
 "nbformat": 4,
 "nbformat_minor": 1
}
